{
 "cells": [
  {
   "cell_type": "markdown",
   "metadata": {},
   "source": [
    "# Laboratorium z podstaw fizyki Wydziału EIiT AGH\n",
    "## Przykłady obliczeń\n",
    "### © Michał Kołodziej 2016, kolodziej.michal@gmail.com"
   ]
  },
  {
   "cell_type": "markdown",
   "metadata": {},
   "source": [
    "# Laboratorium 11 - Badanie zjawiska dyfrakcji i polaryzacji światła"
   ]
  },
  {
   "cell_type": "markdown",
   "metadata": {},
   "source": [
    "## Ustawienie eksperymentu\n",
    "\n",
    "Stanowisko jest wyposażone następująco:\n",
    "\n",
    "<img src=\"Lab_11_setup.jpg\" alt=\"Schemat ideowy ćwiczenia laboratoryjnego 11, http://www.lepla.org/en/modules/Activities/m14/m14-setup.htm\"  />\n",
    "[http://www.lepla.org/en/modules/Activities/m14/m14-setup.htm]\n",
    "\n",
    "Na ekranie otrzymamy podobny obraz dyfrakcyjny jak poniżej:\n",
    "\n",
    "<img src=\"Lab_11_pattern.jpg\" alt=\"Obraz dyfrakcyjny na ekranie, https://www.andrews.edu/phys/wiki/PhysLab/doku.php?id=lab-9\"  />\n",
    "[https://www.andrews.edu/phys/wiki/PhysLab/doku.php?id=lab-9]\n",
    "\n",
    "\n"
   ]
  },
  {
   "cell_type": "markdown",
   "metadata": {},
   "source": [
    "## Związek obrazu dyfrakcyjnego z intensywnością odczytywaną przez miernik\n",
    "\n",
    "Laser emituje elektromagnetyczną falę płaską, zgodnie z oznaczeniami osi na rysunku powyżej wzór fali będzie następujący:\n",
    "\n",
    "$$ E(y,t) = E_m cos(\\omega t + k y) $$\n",
    "\n",
    "E_m to maksimum pola elektrycznego.\n",
    "\n",
    "Fala w przestrzeni (medium) rozchodzi się według zasady Huygensa \n",
    "(https://pl.wikipedia.org/wiki/Zasada_Huygensa) czyli każdy punkt przestrzeni jest źródłem fali kulistej, a na skutek\n",
    "interferencji obserwujemy na przykład wzór fali płaskiej. \n",
    "\n",
    "Fala płaska napotyka szczelinę o szerokości porównywalnej lub większej do długości tej fali. Korzystając z zasady Huygensa możemy przwidzieć wzór fali za szczeliną.\n",
    "\n",
    "Dla pojedynczej szczeliny jasność w funkcji kąta odchylenia od osi przyjmuje postać:\n",
    "\n",
    "$$ I(\\theta) =I_0 {\\left[ \\operatorname{sinc} \\left( \\alpha \\right) \\right] }^2  $$\n",
    "\n",
    "$$ \\alpha = \\frac{\\pi d}{\\lambda} \\sin \\theta $$\n",
    "\n",
    "gdzie:\n",
    "\n",
    "    I – intensywność światła,\n",
    "    I0 – intensywność światła w maksimum, czyli dla kąta równego 0,\n",
    "    λ – długość fali,\n",
    "    d – szerokość szczeliny,\n",
    "    funkcja sinc(x) = sin(x)/x.\n",
    "\n",
    "\n",
    "<img src=\"Lab_11_Single_Slit_Diffraction.svg\" alt=\"Obraz dyfrakcyjny na ekranie i intensywność, https://commons.wikimedia.org/wiki/File:Single_Slit_Diffraction.svg\"  />\n",
    "[https://commons.wikimedia.org/wiki/File:Single_Slit_Diffraction.svg]\n",
    "\n"
   ]
  },
  {
   "cell_type": "markdown",
   "metadata": {},
   "source": [
    "### Właściwości nieznormalizowanej funkcji sinc\n",
    "[https://pl.wikipedia.org/wiki/Funkcja_sinc]\n",
    "\n",
    "Argument funkcji sinc we wzorze na intensywność fali na ekranie:\n",
    "\n",
    "$$ \\frac{\\pi d}{\\lambda} \\sin \\theta $$\n",
    "\n",
    "służy do skalowania (\"zwężania\", \"rozszerzania\") funkcji\n",
    "sinc w zależności od szerokości szczeliny. \n",
    "Jest to analogiczna procedura jak na przykład gdy chcemy \"rozszerzyć\" dwukrotnie funkcję \n",
    "$cos(\\omega t)$ stosujemy $cos(0.5 \\omega t)$\n",
    "\n",
    "\n",
    "Istotną informacją jest wiedza dla jakich argumentów funkcja sinc przyjmuje minimum (lub ma miejsca zerowe).\n",
    "\n",
    "Miejsca zerowe nieznormalizowana funkcja sinc przyjmuje dla argumentów będących całkowitą niezerową wielokrotnością liczby $\\pi$.\n",
    "\n",
    "<img src=\"Lab_11_sinc.svg\" alt=\"Funkcja sinc\"  />\n"
   ]
  },
  {
   "cell_type": "markdown",
   "metadata": {},
   "source": [
    "## Pomiar intensywności w funkcji położenia detektora $I(x_i)$ \n",
    "\n",
    "https://pl.wikipedia.org/wiki/Nat%C4%99%C5%BCenie_promieniowania\n",
    "\n",
    "W radiometrii natężenie (intensywność) promieniowania to wielkość fizyczna określona jako strumień promieniowania wysyłany w jednostkowy kąt bryłowy.\n",
    "\n",
    "$$ I = \\frac \\Phi \\Omega $$\n",
    "\n",
    "gdzie:\n",
    "\n",
    "    I - natężenie (intensywność) promieniowania\n",
    "    Φ - strumień promieniowania\n",
    "    Ω - kąt bryłowy\n",
    "\n",
    "W układzie SI jednostką natężenia (intensywności) promieniowania jest wat na steradian (W/sr).\n",
    "(Fotodioda mierzy irradiancje - W/m2, ale w tym przypadku możemy ją uznać za intensywność)\n",
    "\n",
    "Przesuwając detektor odczytujemy jego względne położenie ze śruby mikrometrycznej i odpowiadające mu natężenie światła na mierniku uniwersalnym (napięcia/prądu). Zapisujemy pomiar. Następnie normalizujemy położenia przyjmując położenie największego maksimum jako x=0."
   ]
  },
  {
   "cell_type": "code",
   "execution_count": 77,
   "metadata": {
    "collapsed": false
   },
   "outputs": [
    {
     "data": {
      "text/plain": [
       "4-element Array{Tuple{ASCIIString,Any},1}:\n",
       " (\"polozenia_pomiar [mm]\",[0,1,2,3,4,5,6,7,8,9  …  11,12,13,14,15,16,17,18,19,20])                                                   \n",
       " (\"polozenia [mm]\",[-12,-11,-10,-9,-8,-7,-6,-5,-4,-3  …  -1,0,1,2,3,4,5,6,7,8])                                                      \n",
       " (\"intensywnosci [W/m2]\",[0.219,0.233,0.258,0.258,0.234,0.259,0.288,0.292,0.27,0.309,0.35,0.381,0.394,0.392,0.377,0.346,0.308,0.278])\n",
       " (\"intensywnosc_max [W/m2]\",0.394)                                                                                                   "
      ]
     },
     "execution_count": 77,
     "metadata": {},
     "output_type": "execute_result"
    }
   ],
   "source": [
    "polozenia_pomiar = collect(0:1:20)\n",
    "intensywnosci = [\n",
    "    0.219,0.233,0.258,0.258,0.234,0.259,0.288,0.292,0.27,0.309,0.35,0.381,0.394,0.392,0.377,0.346,0.308,0.278\n",
    "]\n",
    "\n",
    "znormalizuj_polozenia(polozenia, intensywnosci) = polozenia - polozenia[indmax(intensywnosci)]\n",
    "polozenia = znormalizuj_polozenia(polozenia, intensywnosci)\n",
    "\n",
    "intensywnosc_max = findmax(intensywnosci)[1]\n",
    "\n",
    "[\n",
    "    (\"polozenia_pomiar [mm]\", polozenia_pomiar),\n",
    "    (\"polozenia [mm]\", polozenia),\n",
    "    (\"intensywnosci [W/m2]\",intensywnosci),\n",
    "    (\"intensywnosc_max [W/m2]\",intensywnosc_max)\n",
    "]"
   ]
  },
  {
   "cell_type": "markdown",
   "metadata": {},
   "source": [
    "### Ilustracja graficzna znormalizowanej intensywności I(x)"
   ]
  },
  {
   "cell_type": "code",
   "execution_count": 23,
   "metadata": {
    "collapsed": false
   },
   "outputs": [
    {
     "data": {
      "text/html": [
       "<img src=\"Lab_11_prazki.png?1.464303186e9\" alt=\"Test\" width=\"550\" />"
      ],
      "text/plain": [
       "HTML{ASCIIString}(\"<img src=\\\"Lab_11_prazki.png?1.464303186e9\\\" alt=\\\"Test\\\" width=\\\"550\\\" />\")"
      ]
     },
     "execution_count": 23,
     "metadata": {},
     "output_type": "execute_result"
    }
   ],
   "source": [
    "import Winston\n",
    "p = Winston.FramedPlot(title = \"Intensywności na ekranie\", xlabel=\"Położenie [mm]\", ylabel=\"Intensywność [W/m^2]\")\n",
    "Winston.setattr(p, yrange=(0.2, 0.6))\n",
    "Winston.setattr(p.frame, draw_grid=true)\n",
    "a = Winston.Curve(polozenia, intensywnosci, color=parse(Winston.Colorant, \"red\"))\n",
    "Winston.setattr(a, label=\"\")\n",
    "b = Winston.Points(polozenia, intensywnosci, kind=\"circle\")\n",
    "Winston.setattr(b, label=\"Intensywność\")\n",
    "\n",
    "l = Winston.Legend(.1, .9, Any[b])\n",
    "Winston.add(p, a, b, l)\n",
    "Winston.savepng(p, \"Lab_11_prazki.png\", 600, 600)\n",
    "HTML(\"\"\"<img src=\"Lab_11_prazki.png?$(datetime2unix(now()))\" alt=\"Test\" width=\"550\" />\"\"\")"
   ]
  },
  {
   "cell_type": "markdown",
   "metadata": {},
   "source": [
    "### Wyznaczamy znormalizowane położenia minimów intensywności $x_{min}$\n",
    "\n",
    "Zapisujemy położenia (wg znormalizowanej skali x) dla których ekstrema intensywności są minimami."
   ]
  },
  {
   "cell_type": "code",
   "execution_count": 91,
   "metadata": {
    "collapsed": false
   },
   "outputs": [
    {
     "data": {
      "text/plain": [
       "2-element Array{Int32,1}:\n",
       " -4\n",
       " -8"
      ]
     },
     "execution_count": 91,
     "metadata": {},
     "output_type": "execute_result"
    }
   ],
   "source": [
    "find_minimums(xs) = find(x -> x[2] <= x[1] && x[1]<=x[3] ,zip(xs[1:end-2], xs[2:end-1], xs[3:end]) |> collect) + 1\n",
    "find_minimums(intensywnosci)\n",
    "\n",
    "polozenia_minimow = polozenia[find_minimums(intensywnosci)] |> reverse #|> abs"
   ]
  },
  {
   "cell_type": "markdown",
   "metadata": {},
   "source": [
    "## Dopasowanie funkcji $I(\\theta)$ do zmierzonej intensywności = znalezienie szerokości szczeliny d\n",
    "\n",
    "Funkcja \n",
    "\n",
    "$$ I(\\theta) =I_0 {\\left[ \\operatorname{sinc} \\left( \\alpha \\right) \\right] }^2  $$\n",
    "\n",
    "ma miejsca zerowe dla α będącego wielokrownościami π, czyli 1 minimum (licząc od maximum) będzie dla α = π, \n",
    "drugie minimum dla α = 2π, w związku z czym otrzymujemy równania:\n",
    "\n",
    "$$ \\pi = \\frac{\\pi d}{\\lambda} \\sin \\theta_1 $$\n",
    "$$ 2\\pi = \\frac{\\pi d}{\\lambda} \\sin \\theta_2 $$\n",
    "\n",
    "gdzie:\n",
    "\n",
    "    d – jest nieznaną szerokością szczeliny,\n",
    "    λ – jest długością fali płaskiej padającej na szczelinę (w przypadku lasera gazowego He-Ne 632,8 nm),\n",
    "    θ_1 – nieznanym kątem dla jakiego zmierzono pierwsze minimum intensywności,\n",
    "    θ_2 – nieznanym kątem dla jakiego zmierzono drugie minimum intensywności.\n",
    "\n",
    "Kąt θ możemy wyznaczyć z właściwości geometrycznych stanowiska pomiarowego,\n",
    "tangens tego kąta to stosunek znormalizowanego położenia fotodiody x do odległości pomiędzy szczeliną a fotodiodą L:\n",
    "\n",
    "$$ θ = \\operatorname{arctg}\\left( \\frac{x}{L} \\right) $$\n",
    "\n",
    "Przekształcając powyższe wzory otrzymujemy wzór na szerokość szczeliny, dla pierwszego minimum:\n",
    "\n",
    "$$ d = \\frac{\\lambda}{\\sin \\left( \\operatorname{arctg}\\left( \\frac{x_1}{L} \\right) \\right)}  $$\n",
    "\n",
    "dla drugiego minimum:\n",
    "\n",
    "$$ d = \\frac{2\\lambda}{\\sin \\left( \\operatorname{arctg}\\left( \\frac{x_2}{L} \\right) \\right)}  $$\n",
    "\n",
    "itd.\n",
    "\n",
    "Podsumowując, jeżeli znajdziemy d spełniające powyższe równania to wykres funkcji $I(\\theta)$ \n",
    "powinien mieć minima dla takich samych x-ów jak punkty pomiarowe intensywności."
   ]
  },
  {
   "cell_type": "code",
   "execution_count": 92,
   "metadata": {
    "collapsed": false
   },
   "outputs": [
    {
     "data": {
      "text/plain": [
       "5-element Array{Tuple{AbstractString,Any},1}:\n",
       " (\"odleglosc_detektora [cm]\",80)            \n",
       " (\"λ_lasera [nm]\",632.8)                    \n",
       " (\"θ_minimow [rad]\",[-0.005,-0.01])         \n",
       " (\"szerokosci_szczeliny [mm]\",[-0.13,-0.13])\n",
       " (\"szerokosci_szczeliny_srednia [mm]\",-0.13)"
      ]
     },
     "execution_count": 92,
     "metadata": {},
     "output_type": "execute_result"
    }
   ],
   "source": [
    "odleglosc_detektora = 80 # [cm]\n",
    "λ_lasera = 632.8 # nm\n",
    "nano = 1e-9\n",
    "mili = 1e-3\n",
    "\n",
    "kat_padania(x, L) = atan(x/L)\n",
    "θ_minimow = round(map(x-> kat_padania(x, odleglosc_detektora*10), polozenia_minimow), 4)\n",
    "\n",
    "szerokosc_szczeliny(rzad_minimum, θ, λ) = rzad_minimum * λ / sin(θ)\n",
    "szerokosci_szczeliny = [ \n",
    "    szerokosc_szczeliny(1, θ_minimow[1], λ_lasera * nano), \n",
    "    szerokosc_szczeliny(2, θ_minimow[2], λ_lasera * nano)\n",
    "]\n",
    "\n",
    "szerokosci_szczeliny_srednia = mean(szerokosci_szczeliny) # [m]\n",
    "\n",
    "[\n",
    "    (\"odleglosc_detektora [cm]\", odleglosc_detektora),\n",
    "    (\"λ_lasera [nm]\", λ_lasera),\n",
    "    (\"θ_minimow [rad]\",θ_minimow),\n",
    "    (\"szerokosci_szczeliny [mm]\", round(szerokosci_szczeliny/mili, 2)),\n",
    "    (\"szerokosci_szczeliny_srednia [mm]\", round(szerokosci_szczeliny_srednia/mili, 2))\n",
    "]"
   ]
  },
  {
   "cell_type": "markdown",
   "metadata": {},
   "source": [
    "## Ilustracja funkcji $I(\\theta)$ dla wyznaczonej szerokości szczeliny d\n",
    "\n",
    "\n",
    "$$ I(x, L, d, λ, I_0) = I_0 {\\left[ \\operatorname{sinc} \\left( \\frac{\\pi d}{\\lambda} \\sin \\left( \\operatorname{arctg}\\left( \\frac{x}{L} \\right) \\right) \\right) \\right] }^2  $$\n",
    "\n"
   ]
  },
  {
   "cell_type": "code",
   "execution_count": 103,
   "metadata": {
    "collapsed": false
   },
   "outputs": [
    {
     "data": {
      "text/html": [
       "<img src=\"Lab_11_dopasowanie.png?1.464313763e9\" alt=\"Test\" width=\"550\" />"
      ],
      "text/plain": [
       "HTML{ASCIIString}(\"<img src=\\\"Lab_11_dopasowanie.png?1.464313763e9\\\" alt=\\\"Test\\\" width=\\\"550\\\" />\")"
      ]
     },
     "execution_count": 103,
     "metadata": {},
     "output_type": "execute_result"
    }
   ],
   "source": [
    "nsinc(x) = if x == 0 1 else sin(x)/x end\n",
    "intensywnosc(x, L, d, λ, I_0) = I_0 * nsinc(pi * d / λ * sin(atan(x/L)))^2\n",
    "centy = 1e-2\n",
    "\n",
    "xs = linspace(-12, 12, 100)\n",
    "is = map(x-> intensywnosc(x * mili, odleglosc_detektora * centy, szerokosci_szczeliny_srednia, λ_lasera * nano, intensywnosc_max), xs)\n",
    "\n",
    "import Winston\n",
    "p = Winston.FramedPlot(title = \"Intensywności na ekranie z dopasowaniem I(x)\", \n",
    "xlabel=\"Położenie [mm]\", ylabel=\"Intensywność [W/m^2]\")\n",
    "\n",
    "# Winston.setattr(p, yrange=(0.2, 0.6))\n",
    "Winston.setattr(p.frame, draw_grid=true)\n",
    "a = Winston.Curve(xs, is, color=parse(Winston.Colorant, \"red\"))\n",
    "Winston.setattr(a, label=\"Dopasowanie I(x)\")\n",
    "b = Winston.Points(polozenia, intensywnosci, kind=\"filled circle\")\n",
    "Winston.setattr(b, label=\"Intensywność\")\n",
    "l1 = Winston.LineX(polozenia_minimow[1], color=parse(Winston.Colorant, \"blue\"))\n",
    "l2 = Winston.LineX(polozenia_minimow[2], color=parse(Winston.Colorant, \"blue\"))\n",
    "\n",
    "l = Winston.Legend(.6, .5, Any[b, a])\n",
    "Winston.add(p, a, b, l1, l2, l)\n",
    "Winston.savepng(p, \"Lab_11_dopasowanie.png\", 600, 600)\n",
    "HTML(\"\"\"<img src=\"Lab_11_dopasowanie.png?$(datetime2unix(now()))\" alt=\"Test\" width=\"550\" />\"\"\")"
   ]
  },
  {
   "cell_type": "markdown",
   "metadata": {},
   "source": [
    "## Błąd wyznaczenia szerokości szczeliny Δd dla pierwszego minimum\n",
    "\n",
    "$$ Δd = d(x+Δx,L+ΔL,λ) - d(x,L,λ) $$\n",
    "\n",
    "$$ d(x, L, λ) = \\frac{\\lambda}{\\sin \\left( \\operatorname{arctg}\\left( \\frac{x}{L} \\right) \\right)}  $$"
   ]
  },
  {
   "cell_type": "code",
   "execution_count": 107,
   "metadata": {
    "collapsed": false
   },
   "outputs": [
    {
     "data": {
      "text/plain": [
       "(\"szerokosc_szczeliny_blad [mm]\",-0.022)"
      ]
     },
     "execution_count": 107,
     "metadata": {},
     "output_type": "execute_result"
    }
   ],
   "source": [
    "szerokosc_szczeliny_x(rzad, x, L, λ) = szerokosc_szczeliny(rzad, kat_padania(x, L), λ)\n",
    "\n",
    "szerokosc_szczeliny_blad = \n",
    "    szerokosc_szczeliny_x(1, (polozenia_minimow[1] + 0.5) * mili, (odleglosc_detektora + 2) * centy, λ_lasera * nano) - \n",
    "    szerokosc_szczeliny_x(1, polozenia_minimow[1] * mili, odleglosc_detektora * centy, λ_lasera * nano)\n",
    "\n",
    "(\"szerokosc_szczeliny_blad [mm]\", round(szerokosc_szczeliny_blad / mili, 3))"
   ]
  }
 ],
 "metadata": {
  "kernelspec": {
   "display_name": "Julia 0.4.5",
   "language": "julia",
   "name": "julia-0.4"
  },
  "language_info": {
   "file_extension": ".jl",
   "mimetype": "application/julia",
   "name": "julia",
   "version": "0.4.5"
  }
 },
 "nbformat": 4,
 "nbformat_minor": 0
}
