{
 "cells": [
  {
   "cell_type": "markdown",
   "metadata": {},
   "source": [
    "# Laboratorium z podstaw fizyki Wydziału EIiT AGH\n",
    "## Przykłady obliczeń\n",
    "### © Michał Kołodziej 2016, kolodziej.michal@gmail.com\n",
    "\n"
   ]
  },
  {
   "cell_type": "markdown",
   "metadata": {},
   "source": [
    "# Laboratorium 10 - Drgania tłumione w obwodzie RLC\n"
   ]
  },
  {
   "cell_type": "markdown",
   "metadata": {},
   "source": [
    "## Opis obwodu RLC\n",
    "\n",
    "http://pl.wikipedia.org/wiki/Drgania_t%C5%82umione\n",
    "http://pl.wikipedia.org/wiki/Obw%C3%B3d_RLC\n",
    "\n",
    "<img src=\"/files/Lab_10_scheme.png\" alt=\"Schemat ideowy ćwiczenia laboratoryjnego 10\" height=\"250\" />\n",
    "\n",
    "Powyższy rysunek można opisać korzystając z napięciowego prawa Kirhoff'a:\n",
    "\n",
    "$$ v_R + v_L + v_C = v(t) $$\n",
    "\n",
    "\n",
    "Podstawiając spadki napięć na elementach otrzymujemy równanie:\n",
    "\n",
    "$$ Ri(t) + L \\frac{di}{dt} + \\frac{1}{C} \\int_{-\\infty}^{\\tau=t} i(\\tau)\\, d\\tau = v(t) $$\n",
    "\n",
    "Jeżeli źródło jest źródłem napięcia stałego, zróżniczkowanie po czasie obu stron równania i podzielenie przez\n",
    "L doprowadzi do równania różniczkowego drugiego rzędu:\n",
    "\n",
    "$$ \\frac{d^2 i(t)}{dt^2} + \\frac{R}{L} \\frac{di(t)}{dt} + \\frac{1}{LC} i(t) = 0 $$\n",
    "\n",
    "Równanie to można wyrazić w bardziej przyjaznej postaci:\n",
    "\n",
    "$$ \\frac{d^2 i(t)}{dt^2} + 2 \\beta \\frac{di(t)}{dt} + {\\omega_0}^2 i(t) = 0 $$\n",
    "\n",
    "Tłumienie $\\beta$ oraz częstotliwość drgań $\\omega_0$, są w jednostkach częstotliwości kątowej. $\\beta$ mierzy jak szybko odpowiedź chwilowa układu zaniknie po usunięciu wymuszenia (napięcia v). $\\omega_0$, jest częstotliwością kołową rezonansu.\n",
    "\n",
    "Parametr tłumienia $\\beta$ oraz częstotliwość drgań $\\omega$ dane są następująco\n",
    "\n",
    "$$ \\beta = \\frac{R}{2L} $$ \n",
    "$$ \\omega_0 = \\frac{1}{\\sqrt{LC}} $$\n",
    "\n",
    "\n",
    "\n",
    "\n",
    "\n",
    "W ćwiczeniu obserwujemy napięcie na kondensatorze w czasie, które odpowiada ładunkowi (U=Q/C) na kondensatorze w czasie, a to z kolei odpowiada prądowi w czasie.\n",
    "\n",
    "\n",
    "$$ \\frac{d^2Q(t)}{dt^2} + \\frac L R \\frac{dQ(t)}{dt} + \\frac{1}{LC} Q(t) = 0 $$\n",
    "\n"
   ]
  },
  {
   "cell_type": "markdown",
   "metadata": {},
   "source": [
    "## Napięcie na kondensatorze\n",
    "\n",
    "Rozwiązanie powyższego równania (przy małym tłumieniu):\n",
    "\n",
    "\n",
    "$$ Q = Q_m \\ e^{- \\beta t} \\cos(\\omega t + \\varphi) $$\n",
    "\n",
    "Zmiana napięcia na kondensatorze:\n",
    "\n",
    "$$ U = \\frac{Q_m}{C}\\ e^{-\\beta t} \\cos(\\omega t +\\varphi)=U_m e^{-\\beta t} \\cos(\\omega t +\\varphi) $$\n",
    "\n",
    "Przy czym:\n",
    "\n",
    "$$ \\omega = \\sqrt{\\omega_0^2 - \\beta^2}=\\sqrt{\\frac{1}{LC} - {\\frac{R^2}{4L^2}}} $$\n",
    "\n",
    "A warunek małego tłumienia jest następujący (pierwiastek ma być rzeczywisty):\n",
    "\n",
    "$$ \\beta^2 < \\omega_0^2 \\Rightarrow \\frac{R^2}{4L^2} < \\frac{1}{LC} $$"
   ]
  },
  {
   "cell_type": "code",
   "execution_count": 1,
   "metadata": {
    "collapsed": false
   },
   "outputs": [
    {
     "data": {
      "text/plain": [
       "genU (generic function with 1 method)"
      ]
     },
     "execution_count": 1,
     "metadata": {},
     "output_type": "execute_result"
    }
   ],
   "source": [
    "nano = 1e-9\n",
    "\n",
    "function genU(R,L,C,Um)\n",
    "    β = R/2/L\n",
    "    ω_0_sq = 1/L/C\n",
    "    ω = sqrt(ω_0_sq - β^2)\n",
    "    return t -> Um*e^(-β*t)*cos(ω*t)\n",
    "end\n"
   ]
  },
  {
   "cell_type": "code",
   "execution_count": 164,
   "metadata": {
    "collapsed": false
   },
   "outputs": [
    {
     "data": {
      "text/html": [
       "<img src=\"/files/Lab_10_drgania_u0_u1_u2.png?1.464226531e9\" alt=\"Test\" width=\"550\" />"
      ],
      "text/plain": [
       "HTML{ASCIIString}(\"<img src=\\\"/files/Lab_10_drgania_u0_u1_u2.png?1.464226531e9\\\" alt=\\\"Test\\\" width=\\\"550\\\" />\")"
      ]
     },
     "execution_count": 164,
     "metadata": {},
     "output_type": "execute_result"
    }
   ],
   "source": [
    "L0 = 0.01 # [H]\n",
    "R0 = 0.0\n",
    "C0_teor = 680 # [nF]\n",
    "C0_teor_nano = C0_teor * nano\n",
    "Um0 = 2.4 # [V]\n",
    "\n",
    "u0 = genU(R0,L0,C0_teor_nano,Um0)\n",
    "\n",
    "\n",
    "L1 = 0.01 # [H]\n",
    "R1 = 10.0\n",
    "C1_teor = 680 # [nF]\n",
    "C1_teor_nano = C1_teor * nano\n",
    "Um1 = 1.8 # [V]\n",
    "\n",
    "u1 = genU(R1,L1,C1_teor_nano,Um1)\n",
    "\n",
    "\n",
    "L2 = 0.002 # [H]\n",
    "R2 = 10.0\n",
    "C2_teor = 680 # [nF]\n",
    "C2_teor_nano = C2_teor * nano\n",
    "Um2 = 1.25 # [V]\n",
    "\n",
    "u2 = genU(R2,L2,C2_teor_nano,Um2)\n",
    "\n",
    "\n",
    "\n",
    "ts = linspace(0.0, 8*0.0002, 100)\n",
    "us0 = map(u0, ts)\n",
    "us1 = map(u1, ts)  \n",
    "us2 = map(u2, ts)\n",
    "\n",
    "import Winston\n",
    "p = Winston.FramedPlot(title = \"Przebiegi napięcia na kondensatorze\", xlabel=\"U [V]\", ylabel=\"t [s]\")\n",
    "a = Winston.Curve(ts, us0, color=parse(Winston.Colorant, \"red\"))\n",
    "Winston.setattr(a, label=\"u(t [s];$R0 [Ω], $L0 [H], $C0_teor [nF], $Um0 [V])\")\n",
    "# Winston.style(a, color=parse(Winston.Colorant, \"red\"))\n",
    "b = Winston.Curve(ts, us1, color=parse(Winston.Colorant, \"blue\"))\n",
    "Winston.setattr(b, label=\"u(t [s], $R1 [Ω], $L1 [H], $C1_teor [nF], $Um1 [V])\")\n",
    "c = Winston.Curve(ts, us2, color=parse(Winston.Colorant, \"green\"))\n",
    "Winston.setattr(c, label=\"u(t [s], $R2 [Ω], $L2 [H], $C2_teor [nF], $Um2 [V])\")\n",
    "l = Winston.Legend(.1, .9, Any[a,b,c])\n",
    "Winston.add(p, a, b, c, l)\n",
    "Winston.savepng(p, \"Lab_10_drgania_u0_u1_u2.png\", 600, 600)\n",
    "HTML(\"\"\"<img src=\"/files/Lab_10_drgania_u0_u1_u2.png?$(datetime2unix(now()))\" alt=\"Test\" width=\"550\" />\"\"\")"
   ]
  },
  {
   "cell_type": "code",
   "execution_count": 161,
   "metadata": {
    "collapsed": false
   },
   "outputs": [
    {
     "data": {
      "text/html": [
       "<img src=\"/files/Lab_10_drgania_tlumione.png?1.4642264e9\" alt=\"Test\" width=\"550\" />"
      ],
      "text/plain": [
       "HTML{ASCIIString}(\"<img src=\\\"/files/Lab_10_drgania_tlumione.png?1.4642264e9\\\" alt=\\\"Test\\\" width=\\\"550\\\" />\")"
      ]
     },
     "execution_count": 161,
     "metadata": {},
     "output_type": "execute_result"
    }
   ],
   "source": [
    "L1 = 0.01 # [H]\n",
    "R1 = 10.0\n",
    "C1_teor = 680 # [nF]\n",
    "C1_teor_nano = C1_teor * nano # [F]\n",
    "Um1 = 1.8 # [V]\n",
    "\n",
    "u1 = genU(R1,L1,C1_teor_nano,Um1)\n",
    "\n",
    "ts = linspace(0.0, 8*0.0002, 100)\n",
    "us1 = map(u1, ts)\n",
    "β1 = R1/2/L1\n",
    "ω(r,l,c) = sqrt(1/l/c - (r/2/l)^2)\n",
    "ω1 = round(ω(R1,L1,C1_teor_nano), 2)\n",
    "\n",
    "import Winston\n",
    "p = Winston.FramedPlot(title = \"Przebiegi napięcia na kondensatorze\", xlabel=\"U [V]\", ylabel=\"t [s]\")\n",
    "Winston.setattr(p, height=600)\n",
    "Winston.ylim([-4,4])\n",
    "a = Winston.Curve(ts, us1, color=parse(Winston.Colorant, \"red\"))\n",
    "Winston.setattr(a, label=\"u(t [s]; $R1[Ω], $L1[H], $C1_teor[nF], Um=$Um1[V])\")\n",
    "# Winston.style(a, color=parse(Winston.Colorant, \"red\"))\n",
    "b = Winston.Curve(ts, map(t->Um1*exp(-β1*t), ts), color=parse(Winston.Colorant, \"blue\"))\n",
    "Winston.setattr(b, label=\"exp(-(β=$β1) t)\")\n",
    "c = Winston.Curve(ts, map(t->Um1*cos(ω1*t), ts), color=parse(Winston.Colorant, \"green\"))\n",
    "Winston.setattr(c, label=\"cos((ω=$ω1) t)\")\n",
    "l = Winston.Legend(.1, .9, Any[a,b,c])\n",
    "\n",
    "Winston.add(p, a, b, c, l)\n",
    "Winston.savepng(p, \"Lab_10_drgania_tlumione.png\", 600, 600)\n",
    "HTML(\"\"\"<img src=\"/files/Lab_10_drgania_tlumione.png?$(datetime2unix(now()))\" alt=\"Test\" width=\"550\" />\"\"\")"
   ]
  },
  {
   "cell_type": "markdown",
   "metadata": {},
   "source": [
    "# Graficzne wyznaczanie parametrów funkcji $U_m e^{-\\beta t} \\cos(\\omega t +\\varphi)$ \n",
    "\n",
    "Mając do dyspozycji przebiegi napięcia na kondensatorze, ponieważ są one wyświetlane na oscyloskopie, oraz mając możliwość mierzenia ich na oscyloskopie, możemy spróbować wyznaczyć parametry układu RLC w sposób graficzny.\n",
    "\n",
    "Dzieląc równania:\n",
    "\n",
    "$$ U_m e^{-\\beta t} = U_1 $$\n",
    "$$ U_m e^{-\\beta (t + T)} = U_3 $$\n",
    "\n",
    "Możemy wyznaczyć β na podstawie:\n",
    "\n",
    "$$ \\beta = \\frac{1}{T} ln \\left(\\frac{U_i}{U_{i+2}} \\right) $$\n",
    "\n",
    "<img src=\"/files/Lab_10_beta.png\" alt=\"Schemat ideowy ćwiczenia laboratoryjnego 10\" width=\"500\" />\n"
   ]
  },
  {
   "cell_type": "markdown",
   "metadata": {
    "collapsed": false
   },
   "source": [
    "## Pomiar ekstremów napięcia i okresów drgań\n",
    "\n"
   ]
  },
  {
   "cell_type": "markdown",
   "metadata": {},
   "source": [
    "### Zmierzone ekstrema napięcia U"
   ]
  },
  {
   "cell_type": "code",
   "execution_count": 55,
   "metadata": {
    "collapsed": false
   },
   "outputs": [
    {
     "data": {
      "text/plain": [
       "Dict{Any,Any} with 4 entries:\n",
       "  \"Us_0R_01L [V]\"   => [3.4,2.4,1.6]\n",
       "  \"Us_0R_001L [V]\"  => [1.6,1.2,0.9]\n",
       "  \"Us_20R_01L [V]\"  => [6.2,2.6,1.0]\n",
       "  \"Us_20R_001L [V]\" => [3.7,0.6,0.2]"
      ]
     },
     "execution_count": 55,
     "metadata": {},
     "output_type": "execute_result"
    }
   ],
   "source": [
    "mikro(x) = x / 1e6\n",
    "\n",
    "Us_0R_001L = [1.6, 1.2, 0.9]\n",
    "Us_20R_001L = [3.7, 0.6, 0.2]\n",
    "Us_0R_01L = [3.4, 2.4, 1.6]\n",
    "Us_20R_01L = [6.2, 2.6, 1]\n",
    "\n",
    "[\n",
    "    (\"Us_0R_001L [V]\", Us_0R_001L), \n",
    "    (\"Us_0R_01L [V]\", Us_0R_01L),\n",
    "    (\"Us_20R_001L [V]\", Us_20R_001L),\n",
    "    (\"Us_20R_01L [V]\", Us_20R_01L)\n",
    "]"
   ]
  },
  {
   "cell_type": "markdown",
   "metadata": {},
   "source": [
    "### Zmierzone okresy drgań T"
   ]
  },
  {
   "cell_type": "code",
   "execution_count": 165,
   "metadata": {
    "collapsed": false
   },
   "outputs": [
    {
     "data": {
      "text/plain": [
       "4-element Array{Tuple{ASCIIString,Float64},1}:\n",
       " (\"T_0R_001L [s]\",5.5e-5) \n",
       " (\"T_0R_01L [s]\",0.000185)\n",
       " (\"T_20R_001L [s]\",6.0e-5)\n",
       " (\"T_20R_01L [s]\",0.00018)"
      ]
     },
     "execution_count": 165,
     "metadata": {},
     "output_type": "execute_result"
    }
   ],
   "source": [
    "T_0R_001L = mikro(55)\n",
    "T_20R_001L = mikro(60)\n",
    "T_0R_01L = mikro(185)\n",
    "T_20R_01L = mikro(180)\n",
    "\n",
    "[\n",
    "    (\"T_0R_001L [s]\", T_0R_001L), \n",
    "    (\"T_0R_01L [s]\", T_0R_01L),\n",
    "    (\"T_20R_001L [s]\", T_20R_001L),\n",
    "    (\"T_20R_01L [s]\", T_20R_01L)\n",
    "]"
   ]
  },
  {
   "cell_type": "markdown",
   "metadata": {},
   "source": [
    "### Błąd pomiaru napięcia ΔU"
   ]
  },
  {
   "cell_type": "code",
   "execution_count": 178,
   "metadata": {
    "collapsed": false
   },
   "outputs": [
    {
     "data": {
      "text/plain": [
       "1-element Array{Tuple{UTF8String,Float64},1}:\n",
       " (\"Błąd pomiaru napięcia ΔU\",0.2)"
      ]
     },
     "execution_count": 178,
     "metadata": {},
     "output_type": "execute_result"
    }
   ],
   "source": [
    "ΔU = 0.2\n",
    "[(\"Błąd pomiaru napięcia ΔU\", ΔU)]"
   ]
  },
  {
   "cell_type": "markdown",
   "metadata": {},
   "source": [
    "### Błąd pomiaru okresu ΔT"
   ]
  },
  {
   "cell_type": "code",
   "execution_count": 167,
   "metadata": {
    "collapsed": false
   },
   "outputs": [
    {
     "data": {
      "text/plain": [
       "1-element Array{Tuple{UTF8String,Float64},1}:\n",
       " (\"Błąd pomiaru okresu ΔT\",1.0e-5)"
      ]
     },
     "execution_count": 167,
     "metadata": {},
     "output_type": "execute_result"
    }
   ],
   "source": [
    "ΔT = mikro(10)\n",
    "[(\"Błąd pomiaru okresu ΔT\", ΔT)]"
   ]
  },
  {
   "cell_type": "markdown",
   "metadata": {},
   "source": [
    "### Wyznaczenie współcznynnika tłumienia β\n",
    "\n",
    "$$ β(T, u_i) = \\frac{1}{T} log \\left( \\frac{u_i}{u_{i+2}} \\right) $$\n",
    "\n",
    "u_i, u_i+2 to kolejne maksima napięcia obserwowane na oscyloskopie, \n",
    "T to okres drgań obserwowany na oscyloskopie.\n",
    "\n",
    "Z drugiej strony wiemy, że\n",
    "\n",
    "$$ \\beta = \\frac{R}{2L} $$ \n",
    "\n",
    "gdzie R to całkowity opór obwodu, a L całkowita indukcyjność. Wynika z tego, że dla różnych R i L, współczynniki tłumienia β powinny być różne:"
   ]
  },
  {
   "cell_type": "code",
   "execution_count": 168,
   "metadata": {
    "collapsed": false
   },
   "outputs": [
    {
     "data": {
      "text/plain": [
       "4-element Array{Tuple{UTF8String,Array{Float64,1}},1}:\n",
       " (\"βs_0R_001L [rad/s]\",[5231.0,5231.0])   \n",
       " (\"βs_0R_01L [rad/s]\",[1883.0,2192.0])    \n",
       " (\"βs_20R_001L [rad/s]\",[30319.0,18310.0])\n",
       " (\"βs_20R_01L [rad/s]\",[4828.0,5308.0])   "
      ]
     },
     "execution_count": 168,
     "metadata": {},
     "output_type": "execute_result"
    }
   ],
   "source": [
    "tlumienie(u1, u2, T) = round(1/T * log(u1/u2))\n",
    "tlumienia(us, T) = map((u1, u2) -> tlumienie(u1, u2, T), us[1:end-1], us[2:end])\n",
    "\n",
    "\n",
    "βs_0R_001L = tlumienia(Us_0R_001L, T_0R_001L)\n",
    "βs_20R_001L = tlumienia(Us_20R_001L, T_20R_001L)\n",
    "βs_0R_01L = tlumienia(Us_0R_01L, T_0R_01L)\n",
    "βs_20R_01L = tlumienia(Us_20R_01L, T_20R_01L)\n",
    "\n",
    "[\n",
    "    (\"βs_0R_001L [rad/s]\", βs_0R_001L), \n",
    "    (\"βs_0R_01L [rad/s]\", βs_0R_01L),\n",
    "    (\"βs_20R_001L [rad/s]\", βs_20R_001L),\n",
    "    (\"βs_20R_01L [rad/s]\", βs_20R_01L)\n",
    "]"
   ]
  },
  {
   "cell_type": "markdown",
   "metadata": {},
   "source": [
    "### Błąd wyznaczania współczynnika tłumienia Δβ\n",
    "\n",
    "Do wyznaczenia współczynnika tłumienia możemy się posłużyć aproksymacją liniową (metodą różniczki zupełnej) \n",
    "albo wprost przeliczyć odchylenie dla odchyleń argumentów. Załóżmy że mamy jakąś funkcję g i chcemy\n",
    "oszacować jej błąd na podstawie błędów jej parametrów, możemy do tego problemu podejść wprost:\n",
    "\n",
    "\n",
    "$$ \\Delta \\hat g\\,\\,\\, = \\,\\,\\,\\,\\hat g\\left( {L + \\Delta L,\\,\\,\\,T + \\Delta T,\\,\\,\\,\\theta + \\Delta \\theta } \\right)\\,\\,\\, - \\,\\,\\,\\hat g\\left( {L,\\,\\,T,\\,\\,\\theta } \\right) $$\n",
    "\n",
    "Błąd względny g możemy zapisać następująco:\n",
    "\n",
    "$$ {{\\Delta \\hat g} \\over {\\hat g}}\\,\\,\\, = \\,\\,\\,\\,{{\\hat g\\left( {L + \\Delta L,\\,\\,\\,T + \\Delta T,\\,\\,\\,\\theta + \\Delta \\theta } \\right)\\,\\,\\, - \\,\\,\\,\\hat g\\left( {L,\\,\\,T,\\,\\,\\theta } \\right)} \\over {\\hat g\\left( {L,\\,\\,T,\\,\\,\\theta } \\right)}} $$\n",
    "\n",
    "\n",
    "Dla różnych R i L, błędy współczynników tłumienia β (mamy dwa pomiary dla każdego β odpowiadające parom maksimów napięcia, z których wyznaczamy β) są następujące:"
   ]
  },
  {
   "cell_type": "code",
   "execution_count": 179,
   "metadata": {
    "collapsed": false
   },
   "outputs": [
    {
     "data": {
      "text/plain": [
       "4-element Array{Tuple{UTF8String,Array{Float64,1}},1}:\n",
       " (\"βs_0R_001L_bledy [rad/s]\",[1365.0,1521.0]) \n",
       " (\"βs_20R_001L_bledy [rad/s]\",[7689.0,8408.0])\n",
       " (\"βs_0R_01L_bledy [rad/s]\",[214.0,306.0])    \n",
       " (\"βs_20R_01L_bledy [rad/s]\",[477.0,849.0])   "
      ]
     },
     "execution_count": 179,
     "metadata": {},
     "output_type": "execute_result"
    }
   ],
   "source": [
    "\n",
    "\n",
    "βs_0R_001L_bledy = tlumienia(Us_0R_001L + ΔU, T_0R_001L + ΔT) - tlumienia(Us_0R_001L, T_0R_001L) |> abs\n",
    "βs_20R_001L_bledy = tlumienia(Us_20R_001L + ΔU, T_20R_001L + ΔT) - tlumienia(Us_20R_001L, T_20R_001L) |> abs\n",
    "βs_0R_01L_bledy = tlumienia(Us_0R_01L + ΔU, T_0R_01L + ΔT) - tlumienia(Us_0R_01L, T_0R_01L) |> abs\n",
    "βs_20R_01L_bledy = tlumienia(Us_20R_01L + ΔU, T_20R_01L + ΔT) - tlumienia(Us_20R_01L, T_20R_01L) |> abs\n",
    "\n",
    "[\n",
    "    (\"βs_0R_001L_bledy [rad/s]\", βs_0R_001L_bledy), \n",
    "    (\"βs_20R_001L_bledy [rad/s]\", βs_20R_001L_bledy),\n",
    "    (\"βs_0R_01L_bledy [rad/s]\", βs_0R_01L_bledy),\n",
    "    (\"βs_20R_01L_bledy [rad/s]\", βs_20R_01L_bledy)\n",
    "]"
   ]
  },
  {
   "cell_type": "markdown",
   "metadata": {},
   "source": [
    "### Średnie współczynniki tłumienia $\\bar{β}$\n",
    "\n",
    "Średnia pomiarów z błędami:\n",
    "\n",
    "$$ \\bar{x} = \\frac{\\sum x_i / \\sigma_i^2}{\\sum 1 / \\sigma_i^2} $$\n",
    "\n",
    "czyli w naszym przypadku:\n",
    "\n",
    "$$ \\bar{β} = \\frac{\\sum β_i / \\Deltaβ_i}{\\sum 1 / \\Deltaβ_i} $$\n",
    "\n",
    "Dla różnych R i L wyznaczamy odpowiednie średnie współczynniki tłumienia $\\bar{β}$"
   ]
  },
  {
   "cell_type": "code",
   "execution_count": 169,
   "metadata": {
    "collapsed": false
   },
   "outputs": [
    {
     "data": {
      "text/plain": [
       "4-element Array{Tuple{UTF8String,Float64},1}:\n",
       " (\"βs_mean_0R_001L [rad/s]\",5231.0)  \n",
       " (\"βs_mean_20R_001L [rad/s]\",24582.7)\n",
       " (\"βs_mean_0R_01L [rad/s]\",2010.17)  \n",
       " (\"βs_mean_20R_01L [rad/s]\",5000.67) "
      ]
     },
     "execution_count": 169,
     "metadata": {},
     "output_type": "execute_result"
    }
   ],
   "source": [
    "wmean(xs, es) = sum(map(/, xs, es)) / sum(1./es)\n",
    "\n",
    "βs_mean_0R_001L = round(wmean(βs_0R_001L, βs_0R_001L_bledy), 2)\n",
    "βs_mean_20R_001L = round(wmean(βs_20R_001L, βs_20R_001L_bledy), 2)\n",
    "βs_mean_0R_01L = round(wmean(βs_0R_01L, βs_0R_01L_bledy), 2)\n",
    "βs_mean_20R_01L = round(wmean(βs_20R_01L, βs_20R_01L_bledy), 2)\n",
    "\n",
    "\n",
    "[\n",
    "    (\"βs_mean_0R_001L [rad/s]\", βs_mean_0R_001L), \n",
    "    (\"βs_mean_20R_001L [rad/s]\", βs_mean_20R_001L),\n",
    "    (\"βs_mean_0R_01L [rad/s]\", βs_mean_0R_01L),\n",
    "    (\"βs_mean_20R_01L [rad/s]\", βs_mean_20R_01L)\n",
    "]"
   ]
  },
  {
   "cell_type": "markdown",
   "metadata": {},
   "source": [
    "### Błądy średnich współczynników tłumienia $Δ\\bar{β}$\n",
    "\n",
    "Błąd średniej ważonej można przedstawić jako:\n",
    "\n",
    "$$ \\Delta\\bar{β}= \\frac{\\sum \\Deltaβ_i}{n} $$\n",
    "\n",
    "Dla różnych R i L wyznaczamy odpowiednie błędy średnich współczynników tłumienia $Δ\\bar{β}$"
   ]
  },
  {
   "cell_type": "code",
   "execution_count": 84,
   "metadata": {
    "collapsed": false
   },
   "outputs": [
    {
     "data": {
      "text/plain": [
       "4-element Array{Tuple{UTF8String,Float64},1}:\n",
       " (\"βs_mean_0R_001L_blad [rad/s]\",1443.0) \n",
       " (\"βs_mean_20R_001L_blad [rad/s]\",8048.5)\n",
       " (\"βs_mean_0R_01L_blad [rad/s]\",260.0)   \n",
       " (\"βs_mean_20R_01L_blad [rad/s]\",663.0)  "
      ]
     },
     "execution_count": 84,
     "metadata": {},
     "output_type": "execute_result"
    }
   ],
   "source": [
    "werror(Δs) = sum(Δs)/length(Δs)\n",
    "\n",
    "\n",
    "βs_mean_0R_001L_blad = round(werror(βs_0R_001L_bledy), 2)\n",
    "βs_mean_20R_001L_blad = round(werror(βs_20R_001L_bledy), 2)\n",
    "βs_mean_0R_01L_blad = round(werror(βs_0R_01L_bledy), 2)\n",
    "βs_mean_20R_01L_blad = round(werror(βs_20R_01L_bledy), 2)\n",
    "\n",
    "[\n",
    "    (\"βs_mean_0R_001L_blad [rad/s]\",βs_mean_0R_001L_blad), \n",
    "    (\"βs_mean_20R_001L_blad [rad/s]\",βs_mean_20R_001L_blad),\n",
    "    (\"βs_mean_0R_01L_blad [rad/s]\",βs_mean_0R_01L_blad),\n",
    "    (\"βs_mean_20R_01L_blad [rad/s]\",βs_mean_20R_01L_blad)\n",
    "]"
   ]
  },
  {
   "cell_type": "markdown",
   "metadata": {},
   "source": [
    "### Wyznaczanie oporu pasożytniczego $R_L$ obwodu\n",
    "\n",
    "$$ R_L = 2 β L $$\n",
    "\n",
    "Opór pasożytniczy obwodu powinien być taki sam niezależnie od ustawień opornika dekadowego R i indukcyjności dekadowej L,\n",
    "jednak możemy zauważyć, że opór pasożytniczy zmienia się wraz ze zmianą L! \n",
    "\n",
    "Gdyby tak się nie działo, policzylibyśmy średni opór pasożytniczy, ponieważ jednak tak się nie dzieje, do dalszych obliczeń będziemy się posługiwali oporami pasożytniczymi w zależności od średnich współczynników tłumienia \n",
    "$R_L(\\bar{β})$ :\n"
   ]
  },
  {
   "cell_type": "code",
   "execution_count": 172,
   "metadata": {
    "collapsed": false
   },
   "outputs": [
    {
     "data": {
      "text/plain": [
       "4-element Array{Tuple{UTF8String,Float64},1}:\n",
       " (\"R_L_0R_001L [Ω]\",10.46) \n",
       " (\"R_L_0R_01L [Ω]\",40.2)   \n",
       " (\"R_L_20R_001L [Ω]\",49.17)\n",
       " (\"R_L_20R_01L [Ω]\",100.01)"
      ]
     },
     "execution_count": 172,
     "metadata": {},
     "output_type": "execute_result"
    }
   ],
   "source": [
    "opor_pasozytniczy(β, L) = β * 2 * L\n",
    "R_L_0R_001L = round(opor_pasozytniczy(βs_mean_0R_001L, 0.001), 2)\n",
    "R_L_20R_001L = round(opor_pasozytniczy(βs_mean_20R_001L, 0.001), 2)\n",
    "R_L_0R_01L = round(opor_pasozytniczy(βs_mean_0R_01L, 0.01), 2)\n",
    "R_L_20R_01L = round(opor_pasozytniczy(βs_mean_20R_01L, 0.01), 2)\n",
    "\n",
    "[\n",
    "    (\"R_L_0R_001L [Ω]\", R_L_0R_001L), \n",
    "    (\"R_L_0R_01L [Ω]\", R_L_0R_01L),\n",
    "    (\"R_L_20R_001L [Ω]\", R_L_20R_001L),\n",
    "    (\"R_L_20R_01L [Ω]\", R_L_20R_01L)\n",
    "]"
   ]
  },
  {
   "cell_type": "markdown",
   "metadata": {},
   "source": [
    "### Wyznaczanie błędu oporu pasożytniczego $ΔR_L$ obwodu\n",
    "\n",
    "$$ ΔR_L = R_L(β+Δβ, L + ΔL) - R_L(β,L) = 2 ((β+Δβ) (L+ΔL) - βL) $$\n",
    "\n",
    "Konsekwentnie wyznaczamy błędy poszczególnych oporów pasożytniczych:\n"
   ]
  },
  {
   "cell_type": "code",
   "execution_count": 173,
   "metadata": {
    "collapsed": false
   },
   "outputs": [
    {
     "data": {
      "text/plain": [
       "4-element Array{Tuple{UTF8String,Float64},1}:\n",
       " (\"R_L_0R_001L_blad [Ω]\",2.89) \n",
       " (\"R_L_20R_001L_blad [Ω]\",16.1)\n",
       " (\"R_L_0R_01L_blad [Ω]\",5.2)   \n",
       " (\"R_L_20R_01L_blad [Ω]\",13.26)"
      ]
     },
     "execution_count": 173,
     "metadata": {},
     "output_type": "execute_result"
    }
   ],
   "source": [
    "opor_pasozytniczy_blad(β, L, Δβ) = opor_pasozytniczy(β+Δβ, L) - opor_pasozytniczy(β, L)\n",
    "\n",
    "R_L_0R_001L_blad = round(opor_pasozytniczy_blad(βs_mean_0R_001L, 0.001, βs_mean_0R_001L_blad), 2)\n",
    "R_L_20R_001L_blad = round(opor_pasozytniczy_blad(βs_mean_20R_001L, 0.001, βs_mean_20R_001L_blad), 2)\n",
    "R_L_0R_01L_blad = round(opor_pasozytniczy_blad(βs_mean_0R_01L, 0.01, βs_mean_0R_01L_blad), 2)\n",
    "R_L_20R_01L_blad = round(opor_pasozytniczy_blad(βs_mean_20R_01L, 0.01, βs_mean_20R_01L_blad), 2)\n",
    "\n",
    "[\n",
    "    (\"R_L_0R_001L_blad [Ω]\", R_L_0R_001L_blad), \n",
    "    (\"R_L_20R_001L_blad [Ω]\", R_L_20R_001L_blad),\n",
    "    (\"R_L_0R_01L_blad [Ω]\", R_L_0R_01L_blad),\n",
    "    (\"R_L_20R_01L_blad [Ω]\", R_L_20R_01L_blad)\n",
    "]"
   ]
  },
  {
   "cell_type": "markdown",
   "metadata": {},
   "source": [
    "## Wyznaczenie pojemności kondensatora C z przebiegów na oscyloskopie\n",
    "\n",
    "Równanie zawierające pojemność kondensatora:\n",
    "\n",
    "$$ \\omega = \\sqrt{\\omega_0^2 - \\beta^2}=\\sqrt{\\frac{1}{LC} - {\\frac{R^2}{4L^2}}} $$\n",
    "\n",
    "Przekształcamy:\n",
    "\n",
    "$$ \\omega^2 + \\frac{R^2}{4L^2} = \\frac{1}{LC} $$\n",
    "\n",
    "Otrzymując równanie na pojemność kondensatora:\n",
    "\n",
    "$$ C = \\frac{1}{L \\left( \\omega^2 + \\frac{R^2}{4L^2} \\right) } $$\n",
    "\n",
    "\n",
    "Korzystając ze zmierzonego okresu drgań na oscyloskopie T, zadanych oporności R oraz odpowiednich oporności pasożytniczych $R_L(\\bar{β})$ wyznaczamy pojemności kondensatora:\n"
   ]
  },
  {
   "cell_type": "code",
   "execution_count": 183,
   "metadata": {
    "collapsed": false
   },
   "outputs": [
    {
     "data": {
      "text/plain": [
       "6-element Array{Tuple{ASCIIString,Float64},1}:\n",
       " (\"C_0R_001L [nF]\",480.0)   \n",
       " (\"C_0R_01L [nF]\",540.0)    \n",
       " (\"C_20R_001L [nF]\",570.0)  \n",
       " (\"C_20R_01L [nF]\",520.0)   \n",
       " (\"C_20R_001L_2 [nF]\",570.0)\n",
       " (\"C_20R_01L_2 [nF]\",520.0) "
      ]
     },
     "execution_count": 183,
     "metadata": {},
     "output_type": "execute_result"
    }
   ],
   "source": [
    "pojemnosc(R, L, T) = 1/L/(2*pi/T^2 + R^2 / 4*L^2) # [F]\n",
    "\n",
    "C_0R_001L = round(pojemnosc(R_L_0R_001L, 0.001, T_0R_001L), 8)\n",
    "C_0R_01L = round(pojemnosc(R_L_0R_01L, 0.01, T_0R_01L), 8)\n",
    "C_20R_001L = round(pojemnosc(R_L_0R_001L + 20, 0.001, T_20R_001L), 8)\n",
    "C_20R_01L = round(pojemnosc(R_L_0R_01L + 20, 0.01, T_20R_01L), 8)\n",
    "C_20R_001L_2 = round(pojemnosc(R_L_20R_001L, 0.001, T_20R_001L), 8)\n",
    "C_20R_01L_2 = round(pojemnosc(R_L_20R_01L, 0.01, T_20R_01L), 8)\n",
    "nano = 1e-9\n",
    "\n",
    "[\n",
    "    (\"C_0R_001L [nF]\", round(C_0R_001L/nano,2)), \n",
    "    (\"C_0R_01L [nF]\", round(C_0R_01L/nano, 2)),\n",
    "    (\"C_20R_001L [nF]\", round(C_20R_001L/nano, 2)),\n",
    "    (\"C_20R_01L [nF]\", round(C_20R_01L/nano, 2)),\n",
    "    (\"C_20R_001L_2 [nF]\", round(C_20R_001L_2/nano, 2)),\n",
    "    (\"C_20R_01L_2 [nF]\", round(C_20R_01L_2/nano, 2))\n",
    "]"
   ]
  },
  {
   "cell_type": "markdown",
   "metadata": {
    "collapsed": true
   },
   "source": [
    "## Wyznaczenie błędu pojemności kondensatora ΔC z przebiegów na oscyloskopie\n",
    "\n",
    "Równanie zawierające pojemność kondensatora:\n",
    "\n",
    "$$ \\omega = \\sqrt{\\omega_0^2 - \\beta^2}=\\sqrt{\\frac{1}{LC} - {\\frac{R^2}{4L^2}}} $$\n",
    "\n",
    "Równanie na pojemność kondensatora:\n",
    "\n",
    "$$ C = \\frac{1}{L \\left( \\omega^2 + \\frac{R^2}{4L^2} \\right) } $$\n",
    "\n",
    "Błąd możemy wyznaczyć następująco:\n",
    "\n",
    "$$ ΔC = C(L + ΔL, R + ΔR, T + ΔT) - C(L,R,T) $$\n",
    "\n",
    "Dla odpowiednich ustawień na oporniku dekadowym R i indukcji dekadowej L \n",
    "błędy pojemności kondensatora wynoszą:"
   ]
  },
  {
   "cell_type": "code",
   "execution_count": 182,
   "metadata": {
    "collapsed": false
   },
   "outputs": [
    {
     "data": {
      "text/plain": [
       "6-element Array{Tuple{ASCIIString,Float64},1}:\n",
       " (\"C_0R_001L_blad [nF]\",190.0)   \n",
       " (\"C_0R_01L_blad [nF]\",60.0)     \n",
       " (\"C_20R_001L_blad [nF]\",210.0)  \n",
       " (\"C_20R_01L_blad [nF]\",60.0)    \n",
       " (\"C_20R_001L_blad_2 [nF]\",210.0)\n",
       " (\"C_20R_01L_blad_2 [nF]\",60.0)  "
      ]
     },
     "execution_count": 182,
     "metadata": {},
     "output_type": "execute_result"
    }
   ],
   "source": [
    "pojemnosc_blad(R, L, T, ΔR, ΔT) = pojemnosc(R + ΔR, L, T + ΔT) - pojemnosc(R, L, T) # [F]\n",
    "\n",
    "C_0R_001L_blad = round(pojemnosc_blad(R_L_0R_001L, 0.001, T_0R_001L, R_L_0R_001L_blad, ΔT), 8)\n",
    "C_0R_01L_blad = round(pojemnosc_blad(R_L_0R_01L, 0.01, T_0R_01L, R_L_0R_01L_blad, ΔT), 8)\n",
    "C_20R_001L_blad = round(pojemnosc_blad(R_L_0R_001L + 20, 0.001, T_20R_001L, R_L_0R_001L_blad, ΔT), 8)\n",
    "C_20R_01L_blad = round(pojemnosc_blad(R_L_0R_01L + 20, 0.01, T_20R_01L, R_L_0R_01L_blad, ΔT), 8)\n",
    "C_20R_001L_blad_2 = round(pojemnosc_blad(R_L_20R_001L, 0.001, T_20R_001L, R_L_20R_001L_blad, ΔT), 8)\n",
    "C_20R_01L_blad_2 = round(pojemnosc_blad(R_L_20R_01L, 0.01, T_20R_01L, R_L_20R_01L_blad, ΔT), 8)\n",
    "\n",
    "[\n",
    "    (\"C_0R_001L_blad [nF]\", round(C_0R_001L_blad/nano,2)), \n",
    "    (\"C_0R_01L_blad [nF]\", round(C_0R_01L_blad/nano, 2)),\n",
    "    (\"C_20R_001L_blad [nF]\", round(C_20R_001L_blad/nano, 2)),\n",
    "    (\"C_20R_01L_blad [nF]\", round(C_20R_01L_blad/nano, 2)),\n",
    "    (\"C_20R_001L_blad_2 [nF]\", round(C_20R_001L_blad_2/nano, 2)),\n",
    "    (\"C_20R_01L_blad_2 [nF]\", round(C_20R_01L_blad_2/nano, 2))\n",
    "]"
   ]
  },
  {
   "cell_type": "markdown",
   "metadata": {},
   "source": [
    "### Średnia pojemność kondensatora $\\bar{C}$\n",
    "\n",
    "$$ \\bar{C} = \\frac{\\sum C_i / \\Delta C_i}{\\sum 1 / \\Delta C_i} $$\n",
    "\n",
    "Pojemność nie zmienia się znacznie przy zmianach ustawień na oporniku dekadowym i indukcji dekadowej (teoretycznie nie powinna), w związku z tym liczymy średnią pojemność $\\bar{C}$:"
   ]
  },
  {
   "cell_type": "code",
   "execution_count": 184,
   "metadata": {
    "collapsed": false
   },
   "outputs": [
    {
     "data": {
      "text/plain": [
       "(\"C_mean [nF]\",528.32)"
      ]
     },
     "execution_count": 184,
     "metadata": {},
     "output_type": "execute_result"
    }
   ],
   "source": [
    "C_mean = wmean(\n",
    "    [C_0R_001L, C_0R_01L, C_20R_001L, C_20R_01L], \n",
    "    [C_0R_001L_blad, C_0R_01L_blad, C_20R_001L_blad, C_20R_01L_blad]\n",
    ")\n",
    "(\"C_mean [nF]\", round(C_mean/nano,2))"
   ]
  },
  {
   "cell_type": "markdown",
   "metadata": {},
   "source": [
    "### Błąd średniej pojemności kondensatora $\\Delta\\bar{C}$\n",
    "\n",
    "Błąd średniej ważonej można przedstawić jako:\n",
    "\n",
    "$$ \\Delta\\bar{C}= \\frac{\\sum \\Delta C_i}{n} $$\n",
    "\n"
   ]
  },
  {
   "cell_type": "code",
   "execution_count": 186,
   "metadata": {
    "collapsed": false
   },
   "outputs": [
    {
     "data": {
      "text/plain": [
       "(\"C_mean_blad [nF]\",130.0)"
      ]
     },
     "execution_count": 186,
     "metadata": {},
     "output_type": "execute_result"
    }
   ],
   "source": [
    "C_mean_blad = werror([C_0R_001L_blad, C_0R_01L_blad, C_20R_001L_blad, C_20R_01L_blad])\n",
    "(\"C_mean_blad [nF]\", round(C_mean_blad/nano,2))"
   ]
  },
  {
   "cell_type": "markdown",
   "metadata": {},
   "source": [
    "## Wyznaczanie rezystancji krytycznych $R_c$\n",
    "\n",
    "Czyli dla danych L i C, jeżeli opór układu (zadany+pasożytniczy) jest większy od $R_c$ to na oscyloskopie powinniśmy zaobserwować przebiegi aperiodyczne (rozwiązaniem równania różniczkowego układu RLC jest funkcja wykładnicza bez członu oscylacyjnego cos)\n",
    "\n",
    "$$ R_c = 2 \\sqrt{\\frac{L}{C}} $$\n",
    "\n",
    "Posłużymy się pojemnością średnią, opory krytycze $R_c$ dla odpowiednich indukcyjności L wynoszą:"
   ]
  },
  {
   "cell_type": "code",
   "execution_count": 188,
   "metadata": {
    "collapsed": false
   },
   "outputs": [
    {
     "data": {
      "text/plain": [
       "2-element Array{Tuple{UTF8String,Float64},1}:\n",
       " (\"R_C_001L [Ω]\",87.01)\n",
       " (\"R_C_01L [Ω]\",275.16)"
      ]
     },
     "execution_count": 188,
     "metadata": {},
     "output_type": "execute_result"
    }
   ],
   "source": [
    "rezystancja_kryt(L, C) = 2*sqrt(L/C)\n",
    "\n",
    "R_C_001L = rezystancja_kryt(0.001, C_mean)\n",
    "R_C_01L = rezystancja_kryt(0.01, C_mean)\n",
    "\n",
    "\n",
    "[\n",
    "    (\"R_C_001L [Ω]\", round(R_C_001L,2)), \n",
    "    (\"R_C_01L [Ω]\", round(R_C_01L, 2))\n",
    "]"
   ]
  },
  {
   "cell_type": "markdown",
   "metadata": {},
   "source": [
    "### Wyznaczanie błędu rezystancji krytycznych $\\Delta R_c$\n",
    "\n",
    "Błąd możemy wyznaczyć następująco:\n",
    "\n",
    "$$ ΔR_c = R_c(L + ΔL,C + ΔC) - R_c(L,C) $$\n",
    "\n",
    "Dla odpowiednich ustawień na indukcji dekadowej L \n",
    "błędy rezystancji krytycznych $\\Delta R_c$ wynoszą:"
   ]
  },
  {
   "cell_type": "code",
   "execution_count": 190,
   "metadata": {
    "collapsed": false
   },
   "outputs": [
    {
     "data": {
      "text/plain": [
       "2-element Array{Tuple{UTF8String,Float64},1}:\n",
       " (\"R_C_001L_blad [Ω]\",-9.06)\n",
       " (\"R_C_01L_blad [Ω]\",-28.66)"
      ]
     },
     "execution_count": 190,
     "metadata": {},
     "output_type": "execute_result"
    }
   ],
   "source": [
    "rezystancja_kryt_blad(L, C, ΔC) = rezystancja_kryt(L, C + ΔC) - rezystancja_kryt(L, C)\n",
    "\n",
    "R_C_001L_blad = rezystancja_kryt_blad(0.001, C_mean, C_mean_blad)\n",
    "R_C_01L_blad = rezystancja_kryt_blad(0.01, C_mean, C_mean_blad)\n",
    "\n",
    "\n",
    "[\n",
    "    (\"R_C_001L_blad [Ω]\", round(R_C_001L_blad,2)), \n",
    "    (\"R_C_01L_blad [Ω]\", round(R_C_01L_blad, 2))\n",
    "]"
   ]
  },
  {
   "cell_type": "code",
   "execution_count": null,
   "metadata": {
    "collapsed": true
   },
   "outputs": [],
   "source": []
  }
 ],
 "metadata": {
  "kernelspec": {
   "display_name": "Julia 0.4.5",
   "language": "julia",
   "name": "julia-0.4"
  },
  "language_info": {
   "file_extension": ".jl",
   "mimetype": "application/julia",
   "name": "julia",
   "version": "0.4.5"
  }
 },
 "nbformat": 4,
 "nbformat_minor": 0
}
