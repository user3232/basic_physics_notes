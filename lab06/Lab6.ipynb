{
 "cells": [
  {
   "cell_type": "markdown",
   "metadata": {},
   "source": [
    "# Laboratorium z podstaw fizyki Wydziału EIiT AGH\n",
    "## Przykłady obliczeń\n",
    "### © Michał Kołodziej 2016, kolodziej.michal@gmail.com"
   ]
  },
  {
   "cell_type": "markdown",
   "metadata": {},
   "source": [
    "# Laboratorium 6 - Badanie zależności mocy użytecznej od obciążenia"
   ]
  },
  {
   "cell_type": "markdown",
   "metadata": {},
   "source": [
    "## Ustawienie eksperymentu\n",
    "\n",
    "Stanowisko jest wyposażone następująco:\n",
    "\n",
    "<img src=\"Lab_6_scheme.png\" alt=\"Schemat ideowy ćwiczenia laboratoryjnego 6, http://layer.uci.agh.edu.pl/labfiz/Instrukcje/In-6-Moc.pdf\" style=\"height:300px;\" />\n",
    "[http://layer.uci.agh.edu.pl/labfiz/]\n",
    "\n"
   ]
  },
  {
   "cell_type": "markdown",
   "metadata": {},
   "source": [
    "## Schemat funkcjonalny eksperymentu\n",
    "\n",
    "Eksperyment funkcjonalnie sprowadza się do rozwiązania poniższego schematu:\n",
    "\n",
    "<img src=\"Lab_6_schemat.png\" alt=\"Schemat ideowy ćwiczenia laboratoryjnego 6\"  style=\"height:300px;\" />\n",
    "\n",
    "gdzie:\n",
    "\n",
    "    ɛ - to siła elektromotoryczna (idealne źródło napięcia) [V],\n",
    "    r - to opór wewnętrzny [Ω],\n",
    "    R - to opór odbiornika - obciążenie, który możemy zmieniać, choć nie znamy wprost jego wartości [Ω],\n",
    "    U - mierzone napięcie na odbiorniku (/ rzeczywistym źródle napięcia) [V],\n",
    "    I - mierzony prąd płynący przez odbiornik [A].\n",
    "    \n",
    "Wykorzystując napięciowe prawo Kirhoffa układamy równanie na napięcie na odbiorniku:\n",
    "\n",
    "$$ U = ɛ - Ir \\ [V] $$\n",
    "\n",
    "gdzie: U i I zmienia się w zależności od ustawionej oporności odbiornika R (tutaj potencjometru) i jest przez nas mierzone,\n",
    "ɛ i r są nieznane. Aby wyznaczyć ɛ i r wystarczą dwa pomiary dla różnych oporności odbiornika, ponieważ dostarczy nam to dwóch równań z dwoma niewiadomymi. Aby zwiększyć dokładność wyznaczenia ɛ i r możemy zrobić więcej pomiarów i skorzystać z metody regresji dwuparametrowej.\n",
    "\n",
    "Oporność odbiornika R możemy wyznaczyć następująco:\n",
    "\n",
    "$$ R = \\frac{U}{I} \\ [Ω] $$ \n",
    "\n",
    "gdzie: U [V] i I [A] to pomiary prądu i napięcia na odbiorniku."
   ]
  },
  {
   "cell_type": "markdown",
   "metadata": {},
   "source": [
    "## Pomiar prądu i napięcia \n"
   ]
  },
  {
   "cell_type": "code",
   "execution_count": 1,
   "metadata": {
    "collapsed": false
   },
   "outputs": [
    {
     "data": {
      "text/plain": [
       "2-element Array{Tuple{ASCIIString,Array{Float64,1}},1}:\n",
       " (\"napiecia [V]\",[7.57,7.0,6.5,6.0,5.5,5.0,4.5,4.0,3.5,3.0,2.9,2.8,2.7,2.6,2.5,2.4,2.3,2.2,2.1,2.0])                 \n",
       " (\"prady [mA]\",[3.57,6.08,8.28,10.5,12.7,14.9,17.1,19.3,21.4,23.6,23.9,24.3,24.9,25.3,25.6,26.0,26.4,26.9,27.3,27.7])"
      ]
     },
     "execution_count": 1,
     "metadata": {},
     "output_type": "execute_result"
    }
   ],
   "source": [
    "napiecia = [7.57, 7, 6.5, 6, 5.5, 5, 4.5, 4, 3.5, 3, 2.9, 2.8, 2.7, 2.6, 2.5, 2.4, 2.3, 2.2, 2.1, 2] # [V]\n",
    "prady = [3.57, 6.08, 8.28, 10.5, 12.7, 14.9, 17.1, \n",
    "    19.3, 21.4, 23.6, 23.9, 24.3, 24.9, 25.3, 25.6, 26, 26.4, 26.9, 27.3, 27.7] # [mA]\n",
    "mili = 1e-3\n",
    "\n",
    "[\n",
    "    (\"napiecia [V]\", napiecia),\n",
    "    (\"prady [mA]\", prady)\n",
    "]"
   ]
  },
  {
   "cell_type": "markdown",
   "metadata": {},
   "source": [
    "### Ilustracja graficzna pomiaru\n"
   ]
  },
  {
   "cell_type": "code",
   "execution_count": 2,
   "metadata": {
    "collapsed": false
   },
   "outputs": [
    {
     "name": "stderr",
     "output_type": "stream",
     "text": [
      "\n",
      "WARNING: deprecated syntax \"AbstractVecOrMat{T} (\" at /home/mk/.julia/v0.4/Winston/src/Winston.jl:96.\n",
      "Use \"AbstractVecOrMat{T}(\" instead.\n",
      "WARNING: requiring \"Dates\" in module \"Winston\" did not define a corresponding module.\n",
      "WARNING: module Winston should explicitly import * from Base\n"
     ]
    },
    {
     "data": {
      "text/html": [
       "<img src=\"Lab_6_pomiar.png?1.464578737e9\" alt=\"Test\" width=\"550\" />"
      ],
      "text/plain": [
       "HTML{ASCIIString}(\"<img src=\\\"Lab_6_pomiar.png?1.464578737e9\\\" alt=\\\"Test\\\" width=\\\"550\\\" />\")"
      ]
     },
     "execution_count": 2,
     "metadata": {},
     "output_type": "execute_result"
    }
   ],
   "source": [
    "import Winston\n",
    "p = Winston.FramedPlot(title = \"Pomiar prądu i napięcia w zależności od oporu odbiornika\", xlabel=\"Prąd [mA]\", \n",
    "ylabel=\"Napięcie [V]\")\n",
    "Winston.setattr(p, yrange=(0, 10), xrange=(0, 30))\n",
    "Winston.setattr(p.frame, draw_grid=true)\n",
    "# a = Winston.Curve(polozenia, intensywnosci, color=parse(Winston.Colorant, \"red\"))\n",
    "# Winston.setattr(a, label=\"\")\n",
    "b = Winston.Points(prady, napiecia, kind=\"filled circle\")\n",
    "Winston.setattr(b, label=\"U(I)\")\n",
    "\n",
    "l = Winston.Legend(.7, .9, Any[b])\n",
    "Winston.add(p, b, l)\n",
    "Winston.savepng(p, \"Lab_6_pomiar.png\", 600, 600)\n",
    "HTML(\"\"\"<img src=\"Lab_6_pomiar.png?$(datetime2unix(now()))\" alt=\"Test\" width=\"550\" />\"\"\")"
   ]
  },
  {
   "cell_type": "markdown",
   "metadata": {},
   "source": [
    "## Wstępne wyznaczenie siły elektromotorycznej ɛ i oporu wewnętrznego r zasilacza\n",
    "\n",
    "Do wyznaczenia ɛ i r wystarczą nam 2 równania:\n",
    "\n",
    "$$ U(R_1) = ɛ - I(R_1)r $$\n",
    "$$ U(R_2) = ɛ - I(R_2)r $$\n",
    "\n",
    "odejmując te równania:\n",
    "\n",
    "$$ U(R_1) - U(R_2) = r \\left( I(R_2) - I(R_1) \\right) $$\n",
    "\n",
    "czyli:\n",
    "\n",
    "$$ r = \\frac{U(R_1) - U(R_2)}{I(R_2) - I(R_1)} $$\n",
    "\n",
    "\n",
    "$$ ɛ = U(R_1) + I(R_1) \\frac{U(R_1) - U(R_2)}{I(R_2) - I(R_1)} $$\n"
   ]
  },
  {
   "cell_type": "code",
   "execution_count": 3,
   "metadata": {
    "collapsed": false
   },
   "outputs": [
    {
     "data": {
      "text/plain": [
       "2-element Array{Tuple{AbstractString,Float64},1}:\n",
       " (\"opor_wewnetrzny_test [Ω]\",230.83)     \n",
       " (\"sila_elektromotoryczna_test [V]\",8.39)"
      ]
     },
     "execution_count": 3,
     "metadata": {},
     "output_type": "execute_result"
    }
   ],
   "source": [
    "opor_wewnetrzny_test = (napiecia[1] - napiecia[end]) / (prady[end] * mili - prady[1] * mili)\n",
    "sila_elektromotoryczna_test = napiecia[1] + (prady[1] * mili * opor_wewnetrzny_test)\n",
    "\n",
    "[\n",
    "    (\"opor_wewnetrzny_test [Ω]\", round(opor_wewnetrzny_test, 2)),\n",
    "    (\"sila_elektromotoryczna_test [V]\", round(sila_elektromotoryczna_test, 2))\n",
    "]"
   ]
  },
  {
   "cell_type": "markdown",
   "metadata": {},
   "source": [
    "## Wyznaczenie siły elektromotorycznej ɛ i oporu wewnętrznego r zasilacza metodą regresji\n",
    "\n",
    "### Regresja liniowa dwuparametrowa\n",
    "\n",
    "http://en.wikipedia.org/wiki/Simple_linear_regression\n",
    "\n",
    "http://pl.wikipedia.org/wiki/Metoda_najmniejszych_kwadrat%C3%B3w#Przypadek_klasyczny\n",
    "\n",
    "$$ S = \\sum_{i=1}^n 1 = n,\\  S_x = \\sum_{i=1}^n x_i,\\ S_{xx} = \\sum_{i=1}^n x_i^2,\\ S_y = \\sum_{i=1}^n y_i,\\ S_{yy} = \\sum_{i=1}^n y_i^2,\\ S_{xy} = \\sum_{i=1}^n x_i y_i,\\ \\Delta = S \\cdot S_{xx} - (S_x)^2.   $$\n",
    "\n",
    "\n",
    "Prosta dopasowania:\n",
    "\n",
    "$$ y = ax + b $$\n",
    "\n",
    "Współczynniki prostej\n",
    "\n",
    "$$ a = \\frac {S \\cdot S_{xy} - S_x\\cdot S_{y}}{\\Delta},\\ b = \\frac {S_{xx} \\cdot S_y - S_x\\cdot S_{xy}}{\\Delta}. $$\n",
    "\n",
    "\n",
    "suma odchyleń standardowych wszystkich pomiarów:\n",
    "\n",
    "$$ \\sigma_y^2 = S_{yy} - a S_{xy} - bS_y. $$\n",
    "\n",
    "Błąd kwadratowy a:\n",
    "\n",
    "$$ \\sigma_a^2 = \\frac S {S -2} \\frac {\\sigma_y^2} \\Delta, $$\n",
    "\n",
    "Błąd kwadratowy b:\n",
    "\n",
    "$$ \\sigma_b^2 = \\sigma_a^2 \\frac {S_{xx}} S, $$\n"
   ]
  },
  {
   "cell_type": "code",
   "execution_count": 4,
   "metadata": {
    "collapsed": false
   },
   "outputs": [
    {
     "data": {
      "text/plain": [
       "4-element Array{Tuple{AbstractString,Float64},1}:\n",
       " (\"opor_wewnetrzny [Ω]\",-230.83)           \n",
       " (\"opor_wewnetrzny_blad [Ω]\",0.4)          \n",
       " (\"sila_elektromotoryczna [V]\",8.42)       \n",
       " (\"sila_elektromotoryczna_blad [V]\",0.0002)"
      ]
     },
     "execution_count": 4,
     "metadata": {},
     "output_type": "execute_result"
    }
   ],
   "source": [
    "function reg_lin_2P(xs,ys)\n",
    "    n = length(xs)\n",
    "    Sx = sum(xs)    \n",
    "    Sxx = sum(x->x*x, xs)\n",
    "    Sy = sum(ys)\n",
    "    Syy = sum(y->y*y, ys)\n",
    "    Sxy = sum(zip(xs,ys)) do e\n",
    "        x, y = e\n",
    "        x*y\n",
    "    end\n",
    "    \n",
    "    Δ = (n*Sxx-Sx^2)\n",
    "    a = (n*Sxy-Sx*Sy)/Δ\n",
    "    b = (Sxx*Sy-Sx*Sxy)/Δ\n",
    "    σ2y = Syy - a*Sxy - b*Sy \n",
    "    σ2a = n/(n-2) * σ2y/Δ\n",
    "    σ2b = σ2a/n*Sxx    \n",
    "    \n",
    "    return a,b,σ2a,σ2b\n",
    "end\n",
    "\n",
    "opor_wewnetrzny, sila_elektromotoryczna, opor_wewnetrzny_blad, sila_elektromotoryczna_blad = reg_lin_2P(prady * mili, napiecia)\n",
    "\n",
    "[\n",
    "    (\"opor_wewnetrzny [Ω]\", round(opor_wewnetrzny, 2)),\n",
    "    (\"opor_wewnetrzny_blad [Ω]\", round(opor_wewnetrzny_blad, 2)),\n",
    "    (\"sila_elektromotoryczna [V]\", round(sila_elektromotoryczna, 2)),\n",
    "    (\"sila_elektromotoryczna_blad [V]\", round(sila_elektromotoryczna_blad, 4))\n",
    "]"
   ]
  },
  {
   "cell_type": "markdown",
   "metadata": {},
   "source": [
    "### Ilustracja graficzna dopasowania ɛ i r (Δɛ i Δr)\n"
   ]
  },
  {
   "cell_type": "code",
   "execution_count": 5,
   "metadata": {
    "collapsed": false
   },
   "outputs": [
    {
     "data": {
      "text/html": [
       "<img src=\"Lab_6_dopasowanie.png?1.464578738e9\" alt=\"Test\" width=\"550\" />"
      ],
      "text/plain": [
       "HTML{ASCIIString}(\"<img src=\\\"Lab_6_dopasowanie.png?1.464578738e9\\\" alt=\\\"Test\\\" width=\\\"550\\\" />\")"
      ]
     },
     "execution_count": 5,
     "metadata": {},
     "output_type": "execute_result"
    }
   ],
   "source": [
    "import Winston\n",
    "p = Winston.FramedPlot(title = \"Opóru wewnętrzny r i siła\\n elektromotoryczna ɛ zasilacza\", xlabel=\"Prąd [mA]\", \n",
    "ylabel=\"Napięcie [V]\")\n",
    "Winston.setattr(p, yrange=(0, 10), xrange=(0, 30))\n",
    "Winston.setattr(p.frame, draw_grid=true)\n",
    "# a = Winston.Curve(polozenia, intensywnosci, color=parse(Winston.Colorant, \"red\"))\n",
    "# Winston.setattr(a, label=\"\")\n",
    "b = Winston.Points(prady, napiecia, kind=\"filled circle\")\n",
    "Winston.setattr(b, label=\"Pomiar U(I)\")\n",
    "\n",
    "s = Winston.Slope(opor_wewnetrzny * mili, (0,sila_elektromotoryczna), kind=\"solid\")\n",
    "Winston.setattr(s, \n",
    "label=\"U(I) = ($(round(opor_wewnetrzny, 2)) ± $(round(opor_wewnetrzny_blad, 2)) Ω) * I + $(round(sila_elektromotoryczna, 2)) ± $(round(sila_elektromotoryczna_blad, 4)) V\")\n",
    "\n",
    "l = Winston.Legend(.1, .9, Any[b, s])\n",
    "Winston.add(p, b, s, l)\n",
    "Winston.savepng(p, \"Lab_6_dopasowanie.png\", 600, 600)\n",
    "HTML(\"\"\"<img src=\"Lab_6_dopasowanie.png?$(datetime2unix(now()))\" alt=\"Test\" width=\"550\" />\"\"\")"
   ]
  },
  {
   "cell_type": "markdown",
   "metadata": {},
   "source": [
    "## Wyznaczenie mocy użytecznej $P_u$ i jej ilustracja w zależności od stosunku oporu odbiornika do oporu wewnętrznego zasilacza R/r.\n",
    "\n",
    "Moc użyteczna to moc jaką otrzymuje klient. Tutaj klientem jest odbiornik.\n",
    "Moc na odbiorniku wynosi:\n",
    "\n",
    "$$ P_u(ɛ, r, R) = U(ɛ, r, R) I(ɛ, r, R) \\ [W] $$\n",
    "\n",
    "gdzie: U mierzone napięcie na odbiorniku, I mirzony prąd na odbiorniku, ɛ to siła elektromotoryczna a r opór wewnętrzny zasilacza.\n",
    "\n",
    "Wykres sporządzamy jako zbiór punktów:\n",
    "\n",
    "$$ \\left( \\  \\frac{R}{r},\\ P_u(ɛ, r, R) \\  \\right) $$\n",
    "\n",
    "gdzie: R = U/I to pomiary, a ɛ i r to wyznaczone stałe, w skrócie:\n",
    "\n",
    "$$ \\left( \\ \\frac{U}{Ir}\\ ,\\ (\\ UI\\ ) \\right) $$\n",
    "\n",
    "**Powinniśmy móc zauważyć że największą moc jest wtedy gdy obciążenie jest równe oporowi wewnętrznemu.**\n"
   ]
  },
  {
   "cell_type": "code",
   "execution_count": 14,
   "metadata": {
    "collapsed": false
   },
   "outputs": [
    {
     "data": {
      "text/plain": [
       "4-element Array{Tuple{AbstractString,Any},1}:\n",
       " (\"opory_odbiornika [Ω]\",[2120.0,1151.0,785.0,571.0,433.0,336.0,263.0,207.0,164.0,127.0,121.0,115.0,108.0,103.0,98.0,92.0,87.0,82.0,77.0,72.0])                 \n",
       " (\"opory_wzgledne [R/r]\",[9.184,4.986,3.401,2.474,1.876,1.456,1.139,0.897,0.71,0.55,0.524,0.498,0.468,0.446,0.425,0.399,0.377,0.355,0.334,0.312])               \n",
       " (\"moce_uzyteczne [W]\",[0.027,0.0426,0.0538,0.063,0.0698,0.0745,0.077,0.0772,0.0749,0.0708,0.0693,0.068,0.0672,0.0658,0.064,0.0624,0.0607,0.0592,0.0573,0.0554])\n",
       " (\"(opory_wzgledne [R/r], moce_uzyteczne_max [W])\",(0.897,0.0772))                                                                                              "
      ]
     },
     "execution_count": 14,
     "metadata": {},
     "output_type": "execute_result"
    }
   ],
   "source": [
    "opory_odbiornika = napiecia./(prady*mili) |> abs |> round\n",
    "opory_wzgledne = opory_odbiornika ./ abs(opor_wewnetrzny)  |> x->round(x,3)\n",
    "moce_uzyteczne = napiecia.*(prady*mili) |> abs |> x->round(x,4)\n",
    "moce_uzyteczne_max = (opory_wzgledne[findmax(moce_uzyteczne)[2]], findmax(moce_uzyteczne)[1])\n",
    "\n",
    "[\n",
    "    (\"opory_odbiornika [Ω]\", opory_odbiornika),\n",
    "    (\"opory_wzgledne [R/r]\", opory_wzgledne),\n",
    "    (\"moce_uzyteczne [W]\", moce_uzyteczne),\n",
    "    (\"(opory_wzgledne [R/r], moce_uzyteczne_max [W])\", moce_uzyteczne_max)\n",
    "]"
   ]
  },
  {
   "cell_type": "code",
   "execution_count": 7,
   "metadata": {
    "collapsed": false
   },
   "outputs": [
    {
     "data": {
      "text/html": [
       "<img src=\"Lab_6_moc_uzyteczna.png?1.464578741e9\" alt=\"Test\" width=\"550\" />"
      ],
      "text/plain": [
       "HTML{ASCIIString}(\"<img src=\\\"Lab_6_moc_uzyteczna.png?1.464578741e9\\\" alt=\\\"Test\\\" width=\\\"550\\\" />\")"
      ]
     },
     "execution_count": 7,
     "metadata": {},
     "output_type": "execute_result"
    }
   ],
   "source": [
    "import Winston\n",
    "p = Winston.FramedPlot(\n",
    "title = \"Moc użyteczna P_u na odbiorniku\\n maximum mocy dla R = r\", \n",
    "    xlabel=\"Wielokrotność oporu wewnętrznego R/r []\", \n",
    "    ylabel=\"Moc [mW]\")\n",
    "# Winston.setattr(p, yrange=(0, 10), xrange=(0, 30))\n",
    "Winston.setattr(p.frame, draw_grid=true)\n",
    "a = Winston.Curve(opory_wzgledne, moce_uzyteczne/mili, color=parse(Winston.Colorant, \"red\"))\n",
    "Winston.setattr(a, label=\"P_u(R/r)\")\n",
    "b = Winston.Points(opory_wzgledne, moce_uzyteczne/mili)\n",
    "Winston.setattr(a, label=\"P_u(R/r)\")\n",
    "m = Winston.LineX(1, color=parse(Winston.Colorant, \"blue\"))\n",
    "Winston.setattr(m, label=\"R/r = 1\")\n",
    "l = Winston.Legend(.6, .9, Any[a, m])\n",
    "Winston.add(p, m, a, b, l)\n",
    "Winston.savepng(p, \"Lab_6_moc_uzyteczna.png\", 600, 600)\n",
    "HTML(\"\"\"<img src=\"Lab_6_moc_uzyteczna.png?$(datetime2unix(now()))\" alt=\"Test\" width=\"550\" />\"\"\")"
   ]
  },
  {
   "cell_type": "markdown",
   "metadata": {},
   "source": [
    "## Wyznaczenie mocy całkowitej $P_c$ i jej zależność od oporu względnego R/r\n",
    "\n",
    "Moc całkowita to moc na zasilaczu, czyli iloczym prądu i napięcia zasilacza:\n",
    "\n",
    "$$ P_c(ɛ, r, R) = ɛ I(ɛ, r, R) \\ [W] $$\n",
    "\n",
    "gdzie: R = U/I stosunek mierzonego napięcia do prądu na odbiorniku, ɛ to siła elektromotoryczna a r opór wewnętrzny zasilacza wyznaczone wcześniej.\n",
    "\n",
    "W skrucie wykres sporządzamy jako zbiór punktów (R/r, P_c):\n",
    "\n",
    "$$ \\left( \\ \\frac{U}{Ir}\\ ,\\ (\\ ɛI\\ ) \\right) $$\n",
    "\n",
    "** Powinniśmy móc zauważyć, że maksimum mocy dostarczanej przez zasilacz jest gdy opór odbiornika jest najmniejszy\n",
    "(czyli płynie największy prąd) **\n"
   ]
  },
  {
   "cell_type": "code",
   "execution_count": 8,
   "metadata": {
    "collapsed": false
   },
   "outputs": [
    {
     "data": {
      "text/plain": [
       "(\"moce_calkowite [W]\",[0.03,0.051,0.07,0.088,0.107,0.125,0.144,0.163,0.18,0.199,0.201,0.205,0.21,0.213,0.216,0.219,0.222,0.227,0.23,0.233])"
      ]
     },
     "execution_count": 8,
     "metadata": {},
     "output_type": "execute_result"
    }
   ],
   "source": [
    "moce_calkowite = round(sila_elektromotoryczna * prady * mili, 3) # W\n",
    "\n",
    "(\"moce_calkowite [W]\", moce_calkowite)"
   ]
  },
  {
   "cell_type": "code",
   "execution_count": 9,
   "metadata": {
    "collapsed": false
   },
   "outputs": [
    {
     "data": {
      "text/html": [
       "<img src=\"Lab_6_moc_calkowita.png?1.464578741e9\" alt=\"Test\" width=\"550\" />"
      ],
      "text/plain": [
       "HTML{ASCIIString}(\"<img src=\\\"Lab_6_moc_calkowita.png?1.464578741e9\\\" alt=\\\"Test\\\" width=\\\"550\\\" />\")"
      ]
     },
     "execution_count": 9,
     "metadata": {},
     "output_type": "execute_result"
    }
   ],
   "source": [
    "import Winston\n",
    "p = Winston.FramedPlot(\n",
    "title = \"Moc całkowita P_c na odbiorniku\\n maximum mocy dla R = r\", \n",
    "    xlabel=\"Wielokrotność oporu wewnętrznego R/r []\", \n",
    "    ylabel=\"Moc [mW]\")\n",
    "# Winston.setattr(p, yrange=(0, 10), xrange=(0, 30))\n",
    "Winston.setattr(p.frame, draw_grid=true)\n",
    "a = Winston.Curve(opory_wzgledne, moce_calkowite/mili, color=parse(Winston.Colorant, \"red\"))\n",
    "Winston.setattr(a, label=\"P_c(R/r)\")\n",
    "b = Winston.Points(opory_wzgledne, moce_calkowite/mili)\n",
    "m = Winston.LineX(1, color=parse(Winston.Colorant, \"blue\"))\n",
    "Winston.setattr(m, label=\"R/r = 1\")\n",
    "l = Winston.Legend(.6, .9, Any[a, m])\n",
    "Winston.add(p, m, a, b, l)\n",
    "Winston.savepng(p, \"Lab_6_moc_calkowita.png\", 600, 600)\n",
    "HTML(\"\"\"<img src=\"Lab_6_moc_calkowita.png?$(datetime2unix(now()))\" alt=\"Test\" width=\"550\" />\"\"\")"
   ]
  },
  {
   "cell_type": "markdown",
   "metadata": {},
   "source": [
    "## Wyznaczanie sprawności (wydajności) η układu zasilacz - odbiornik\n",
    "\n",
    "Sprawność układu zasilacz - odbiornik to stosunek mocy na odbiorniku do mocy na zasilaczu:\n",
    "\n",
    "$$ η(ɛ,r,R) = \\frac{P_u(ɛ,r,R)}{P_c(ɛ,r,R)} \\ [au]$$\n",
    "\n",
    "gdzie: R = U/I stosunek mierzonego napięcia do prądu na odbiorniku, ɛ to siła elektromotoryczna a r opór wewnętrzny zasilacza wyznaczone wcześniej.\n",
    "\n",
    "W skrucie wykres sporządzamy jako zbiór punktów (R/r, η):\n",
    "\n",
    "$$ \\left( \\ \\frac{U}{Ir}\\ ,\\ \\frac{P_u}{P_c}\\  \\right) $$\n",
    "\n",
    "** Powinniśmy móc zauważyć, że maksimum wydajności η układu zasilacz - odbiornik jest gdy opór odbiornika jest największy\n",
    "(czyli płynie majmniejszy prąd) **"
   ]
  },
  {
   "cell_type": "code",
   "execution_count": 10,
   "metadata": {
    "collapsed": false
   },
   "outputs": [
    {
     "data": {
      "text/plain": [
       "(\"sprawnosci [au]\",[0.9,0.83,0.77,0.72,0.65,0.6,0.53,0.47,0.42,0.36,0.34,0.33,0.32,0.31,0.3,0.28,0.27,0.26,0.25,0.24])"
      ]
     },
     "execution_count": 10,
     "metadata": {},
     "output_type": "execute_result"
    }
   ],
   "source": [
    "sprawnosci = round(moce_uzyteczne ./ moce_calkowite, 2)\n",
    "(\"sprawnosci [au]\", sprawnosci)"
   ]
  },
  {
   "cell_type": "code",
   "execution_count": 11,
   "metadata": {
    "collapsed": false
   },
   "outputs": [
    {
     "data": {
      "text/html": [
       "<img src=\"Lab_6_sprawnosc.png?1.464578741e9\" alt=\"Test\" width=\"550\" />"
      ],
      "text/plain": [
       "HTML{ASCIIString}(\"<img src=\\\"Lab_6_sprawnosc.png?1.464578741e9\\\" alt=\\\"Test\\\" width=\\\"550\\\" />\")"
      ]
     },
     "execution_count": 11,
     "metadata": {},
     "output_type": "execute_result"
    }
   ],
   "source": [
    "import Winston\n",
    "p = Winston.FramedPlot(\n",
    "title = \"Sprawność układu zasilacz 0 odbiornik\", \n",
    "    xlabel=\"Wielokrotność oporu wewnętrznego R/r []\", \n",
    "    ylabel=\"Sprawność [au]\")\n",
    "# Winston.setattr(p, yrange=(0, 10), xrange=(0, 30))\n",
    "Winston.setattr(p.frame, draw_grid=true)\n",
    "a = Winston.Curve(opory_wzgledne, sprawnosci, color=parse(Winston.Colorant, \"red\"))\n",
    "Winston.setattr(a, label=\"η(R/r)\")\n",
    "b = Winston.Points(opory_wzgledne, sprawnosci)\n",
    "m = Winston.LineX(1, color=parse(Winston.Colorant, \"blue\"))\n",
    "Winston.setattr(m, label=\"R/r = 1\")\n",
    "l = Winston.Legend(.2, .9, Any[a, m])\n",
    "Winston.add(p, m, a, b, l)\n",
    "Winston.savepng(p, \"Lab_6_sprawnosc.png\", 600, 600)\n",
    "HTML(\"\"\"<img src=\"Lab_6_sprawnosc.png?$(datetime2unix(now()))\" alt=\"Test\" width=\"550\" />\"\"\")"
   ]
  }
 ],
 "metadata": {
  "kernelspec": {
   "display_name": "Julia 0.4.5",
   "language": "julia",
   "name": "julia-0.4"
  },
  "language_info": {
   "file_extension": ".jl",
   "mimetype": "application/julia",
   "name": "julia",
   "version": "0.4.5"
  }
 },
 "nbformat": 4,
 "nbformat_minor": 0
}
